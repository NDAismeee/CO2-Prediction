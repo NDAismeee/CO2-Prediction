{
 "cells": [
  {
   "cell_type": "markdown",
   "id": "53b335ae",
   "metadata": {},
   "source": [
    "# Combine "
   ]
  },
  {
   "cell_type": "code",
   "execution_count": 2,
   "id": "0d8cac5c",
   "metadata": {},
   "outputs": [
    {
     "name": "stdout",
     "output_type": "stream",
     "text": [
      "✅ Merged dataset saved to data/merged_dataset.csv\n"
     ]
    }
   ],
   "source": [
    "import os\n",
    "import pandas as pd\n",
    "\n",
    "def extract_feature_name_from_path(path):\n",
    "    \"\"\"Guess feature name from filename (e.g. '1.Số lượng trâu 1-1.xlsx' -> 'Buffalo_Count')\"\"\"\n",
    "    fname = os.path.basename(path)\n",
    "    name = fname.replace(\".xlsx\", \"\")\n",
    "    return name.replace(\" \", \"_\").replace(\".\", \"_\")\n",
    "\n",
    "def load_and_rename(file_path):\n",
    "    \"\"\"Load Excel file and convert wide to long format.\"\"\"\n",
    "    df = pd.read_excel(file_path)\n",
    "    df = df.melt(id_vars=[\"Location\"], var_name=\"Year\", value_name=\"Value\")\n",
    "    df[\"Year\"] = df[\"Year\"].astype(int)\n",
    "    feature_name = extract_feature_name_from_path(file_path)\n",
    "    df = df.rename(columns={\"Value\": feature_name})\n",
    "    return df\n",
    "\n",
    "def merge_all_files(folder):\n",
    "    \"\"\"Walk through a folder, load all .xlsx files, and merge by Location-Year.\"\"\"\n",
    "    merged_df = None\n",
    "    for root, dirs, files in os.walk(folder):\n",
    "        for file in files:\n",
    "            if file.endswith(\".xlsx\"):\n",
    "                full_path = os.path.join(root, file)\n",
    "                df = load_and_rename(full_path)\n",
    "                if merged_df is None:\n",
    "                    merged_df = df\n",
    "                else:\n",
    "                    merged_df = pd.merge(merged_df, df, on=[\"Location\", \"Year\"], how=\"outer\")\n",
    "    return merged_df\n",
    "\n",
    "if __name__ == \"__main__\":\n",
    "    folder_path = \"[Carbon Farming] Dữ liệu NN Thanh Hóa\"\n",
    "    merged = merge_all_files(folder_path)\n",
    "    merged = merged.sort_values(by=[\"Location\", \"Year\"]).reset_index(drop=True)\n",
    "    merged.to_csv(\"dataset/merged_dataset.csv\", index=False)\n",
    "    print(\"✅ Merged dataset saved to data/merged_dataset.csv\")"
   ]
  },
  {
   "cell_type": "markdown",
   "id": "3b63789f",
   "metadata": {},
   "source": [
    "# Preprocessing"
   ]
  },
  {
   "cell_type": "code",
   "execution_count": 3,
   "id": "f6228e95",
   "metadata": {},
   "outputs": [
    {
     "name": "stdout",
     "output_type": "stream",
     "text": [
      "\n",
      "[INFO] Shape: (210, 15)\n",
      "\n",
      "[INFO] Columns: ['Location', 'Year', '5_Diện_tích_cây_cao_su', '1_Số_lượng_trâu_1-1', '2_Số_lượng_bò_1-1', '3_Số_lượng_lợn_1-1', '4_Số_lượng_dê_1-1', '5_Số_lượng_gia_cầm_1-1', '1_Diện_tích_lúa_đông_xuân', '2_Diện_tích_lúa_vụ_mùa', '3_Năng_suất_vụ_Đông_Xuân', '4_Năng_suất_vụ_mùa', '5_Sản_lượng_lúa_Đông_Xuân', '6_Sản_lượng_lúa_vụ_Mùa', '1_Diện_tích_rừng']\n",
      "\n",
      "[INFO] Missing values:\n",
      "Location                      0\n",
      "Year                          0\n",
      "5_Diện_tích_cây_cao_su       75\n",
      "1_Số_lượng_trâu_1-1          75\n",
      "2_Số_lượng_bò_1-1            75\n",
      "3_Số_lượng_lợn_1-1           75\n",
      "4_Số_lượng_dê_1-1            75\n",
      "5_Số_lượng_gia_cầm_1-1       75\n",
      "1_Diện_tích_lúa_đông_xuân    21\n",
      "2_Diện_tích_lúa_vụ_mùa       21\n",
      "3_Năng_suất_vụ_Đông_Xuân     21\n",
      "4_Năng_suất_vụ_mùa           21\n",
      "5_Sản_lượng_lúa_Đông_Xuân    21\n",
      "6_Sản_lượng_lúa_vụ_Mùa       21\n",
      "1_Diện_tích_rừng             75\n",
      "dtype: int64\n",
      "\n",
      "[INFO] Sample data:\n",
      "         Location  Year  5_Diện_tích_cây_cao_su  1_Số_lượng_trâu_1-1  \\\n",
      "0  Huyện Bá Thước  2018                     0.0              22354.0   \n",
      "1  Huyện Bá Thước  2019                     0.0              21648.0   \n",
      "2  Huyện Bá Thước  2020                     0.0              21351.0   \n",
      "3  Huyện Bá Thước  2021                     0.0              19984.0   \n",
      "4  Huyện Bá Thước  2022                     0.0              17439.0   \n",
      "\n",
      "   2_Số_lượng_bò_1-1  3_Số_lượng_lợn_1-1  4_Số_lượng_dê_1-1  \\\n",
      "0            15309.0             27014.0            12058.0   \n",
      "1            15584.0             18125.0            11140.0   \n",
      "2            15822.0             23506.0            11271.0   \n",
      "3            14970.0             24276.0            10911.0   \n",
      "4            14891.0             25236.0            10408.0   \n",
      "\n",
      "   5_Số_lượng_gia_cầm_1-1  1_Diện_tích_lúa_đông_xuân  2_Diện_tích_lúa_vụ_mùa  \\\n",
      "0                   670.0                     2331.0                  2700.0   \n",
      "1                   693.0                     2368.0                  2723.0   \n",
      "2                   732.0                     2374.0                  2603.0   \n",
      "3                   891.0                     2367.0                  2770.0   \n",
      "4                   920.0                     2385.0                  2805.0   \n",
      "\n",
      "   3_Năng_suất_vụ_Đông_Xuân  4_Năng_suất_vụ_mùa  5_Sản_lượng_lúa_Đông_Xuân  \\\n",
      "0                      55.6                53.0                    12962.0   \n",
      "1                      56.3                54.3                    13321.0   \n",
      "2                      56.9                54.7                    13498.0   \n",
      "3                      57.1                55.4                    13517.0   \n",
      "4                      55.8                55.9                    13309.0   \n",
      "\n",
      "   6_Sản_lượng_lúa_vụ_Mùa  1_Diện_tích_rừng  \n",
      "0                 14310.0           53244.0  \n",
      "1                 14775.0           53337.0  \n",
      "2                 14245.0           54635.0  \n",
      "3                 15341.0           54750.0  \n",
      "4                 15693.0           54781.0  \n"
     ]
    }
   ],
   "source": [
    "import pandas as pd\n",
    "\n",
    "# Load merged dataset\n",
    "merged_df = pd.read_csv(\"dataset/merged_dataset.csv\")\n",
    "\n",
    "# Show basic info\n",
    "print(\"\\n[INFO] Shape:\", merged_df.shape)\n",
    "print(\"\\n[INFO] Columns:\", merged_df.columns.tolist())\n",
    "\n",
    "# Show nulls\n",
    "print(\"\\n[INFO] Missing values:\")\n",
    "print(merged_df.isnull().sum())\n",
    "\n",
    "# Show sample rows\n",
    "print(\"\\n[INFO] Sample data:\")\n",
    "print(merged_df.head())\n"
   ]
  },
  {
   "cell_type": "code",
   "execution_count": 6,
   "id": "b33d51ad",
   "metadata": {},
   "outputs": [
    {
     "name": "stdout",
     "output_type": "stream",
     "text": [
      "✅ Cleaned dataset saved to dataset/cleaned_dataset.csv\n"
     ]
    }
   ],
   "source": [
    "import pandas as pd\n",
    "\n",
    "THRESHOLD = 0.6  # If more than 50% of features are missing in a row, drop it\n",
    "\n",
    "def clean_dataset(input_path, output_path):\n",
    "    df = pd.read_csv(input_path)\n",
    "\n",
    "    # Count how many features (excluding Location, Year)\n",
    "    feature_cols = [col for col in df.columns if col not in [\"Location\", \"Year\"]]\n",
    "    feature_count = len(feature_cols)\n",
    "\n",
    "    # Step 1: drop rows with too many missing values\n",
    "    df[\"missing_count\"] = df[feature_cols].isnull().sum(axis=1)\n",
    "    df = df[df[\"missing_count\"] <= (feature_count * THRESHOLD)].drop(columns=[\"missing_count\"])\n",
    "\n",
    "    # Step 2: fill missing values by mean of that Location across other years\n",
    "    df[feature_cols] = df.groupby(\"Location\")[feature_cols].transform(lambda x: x.fillna(x.mean()))\n",
    "\n",
    "    # Save cleaned file\n",
    "    df.to_csv(output_path, index=False)\n",
    "    print(f\"✅ Cleaned dataset saved to {output_path}\")\n",
    "\n",
    "if __name__ == \"__main__\":\n",
    "    clean_dataset(\"dataset/merged_dataset.csv\", \"dataset/cleaned_dataset.csv\")\n"
   ]
  },
  {
   "cell_type": "code",
   "execution_count": null,
   "id": "de966343",
   "metadata": {},
   "outputs": [],
   "source": []
  }
 ],
 "metadata": {
  "kernelspec": {
   "display_name": "Python 3",
   "language": "python",
   "name": "python3"
  },
  "language_info": {
   "codemirror_mode": {
    "name": "ipython",
    "version": 3
   },
   "file_extension": ".py",
   "mimetype": "text/x-python",
   "name": "python",
   "nbconvert_exporter": "python",
   "pygments_lexer": "ipython3",
   "version": "3.13.2"
  }
 },
 "nbformat": 4,
 "nbformat_minor": 5
}
